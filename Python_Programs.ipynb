{
  "nbformat": 4,
  "nbformat_minor": 0,
  "metadata": {
    "colab": {
      "name": "Python Programs.ipynb",
      "provenance": [],
      "authorship_tag": "ABX9TyP/tOmc3iGJdmz4vPF7Ar8s",
      "include_colab_link": true
    },
    "kernelspec": {
      "name": "python3",
      "display_name": "Python 3"
    },
    "language_info": {
      "name": "python"
    }
  },
  "cells": [
    {
      "cell_type": "markdown",
      "metadata": {
        "id": "view-in-github",
        "colab_type": "text"
      },
      "source": [
        "<a href=\"https://colab.research.google.com/github/RahulKuruganti/Basic-ML/blob/main/Python_Programs.ipynb\" target=\"_parent\"><img src=\"https://colab.research.google.com/assets/colab-badge.svg\" alt=\"Open In Colab\"/></a>"
      ]
    },
    {
      "cell_type": "code",
      "metadata": {
        "id": "oH8l5rhpaycl"
      },
      "source": [
        ""
      ],
      "execution_count": null,
      "outputs": []
    },
    {
      "cell_type": "markdown",
      "metadata": {
        "id": "9KB1XtdTa3TO"
      },
      "source": [
        " 1)SUM OF TWO NUMBERS"
      ]
    },
    {
      "cell_type": "code",
      "metadata": {
        "id": "oSsdaPNobCxI",
        "colab": {
          "base_uri": "https://localhost:8080/"
        },
        "outputId": "8fa8dd88-0373-4961-862e-7119f08a758e"
      },
      "source": [
        "a=int(input(\"enter a number\"))\n",
        "b=int(input(\"enter a number\"))\n",
        "c=a+b\n",
        "print(\"sum of two numbers=\",c)\n"
      ],
      "execution_count": 1,
      "outputs": [
        {
          "output_type": "stream",
          "text": [
            "enter a number2\n",
            "enter a number3\n",
            "sum of two numbers= 5\n"
          ],
          "name": "stdout"
        }
      ]
    },
    {
      "cell_type": "markdown",
      "metadata": {
        "id": "Cp0Hnbgjd9UC"
      },
      "source": [
        "2)FACTORIAL OF A NUMBER"
      ]
    },
    {
      "cell_type": "code",
      "metadata": {
        "id": "YNhf8KOReFrQ"
      },
      "source": [
        " def factorial(num):\n",
        "       if num==1:\n",
        "         return num\n",
        "       else:\n",
        "           return num*factorial(num-1)\n",
        "       num=2\n",
        "       if num<0:\n",
        "         print(\"Factorial cannot be found for negative numbers\")\n",
        "       elif num==0:\n",
        "         print(\"Factorial of 0 is 1\")\n",
        "       else:\n",
        "         print(\"Factorial of\",num,\"is:\",factorial(num))    "
      ],
      "execution_count": 19,
      "outputs": []
    },
    {
      "cell_type": "markdown",
      "metadata": {
        "id": "gvFHWmAMo9qE"
      },
      "source": [
        "3)Palindrome or Not"
      ]
    },
    {
      "cell_type": "code",
      "metadata": {
        "colab": {
          "base_uri": "https://localhost:8080/"
        },
        "id": "G1ytqgAspnji",
        "outputId": "9623c3fb-d894-49fb-8343-e4a569e9bda2"
      },
      "source": [
        " num=int(input(\"enter a number:\"))\n",
        " temp=num\n",
        " rev=0\n",
        " while(num>0):\n",
        "     dig=num%10\n",
        "     rev=rev*10+dig\n",
        "     num=num//10\n",
        " if(temp==rev):\n",
        "     print(\"The number is palindrome!\")\n",
        " else:\n",
        "     print(\"Not a palindrome!\")   "
      ],
      "execution_count": 21,
      "outputs": [
        {
          "output_type": "stream",
          "text": [
            "enter a number:121\n",
            "The number is palindrome!\n"
          ],
          "name": "stdout"
        }
      ]
    }
  ]
}